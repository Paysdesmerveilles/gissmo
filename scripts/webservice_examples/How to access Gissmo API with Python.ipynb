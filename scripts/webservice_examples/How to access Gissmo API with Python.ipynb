{
 "cells": [
  {
   "cell_type": "markdown",
   "metadata": {},
   "source": [
    "# How to access Gissmo API v1 with Python\n",
    "\n",
    "What you need to start using GISSMO API (with Python) is **the API address** (url)."
   ]
  },
  {
   "cell_type": "code",
   "execution_count": 13,
   "metadata": {
    "collapsed": true
   },
   "outputs": [],
   "source": [
    "import requests\n",
    "\n",
    "server = 'https://gissmo-test.u-strasbg.fr/api/v1/'"
   ]
  },
  {
   "cell_type": "markdown",
   "metadata": {},
   "source": [
    "*requests* is an [easy to use Python library for making requests](http://docs.python-requests.org/en/latest/). that you can install with pip:\n",
    "\n",
    "```python\n",
    "pip install requests\n",
    "```\n",
    "\n",
    "In this example, our server would be on this address: https://gissmo-test.u-strasbg.fr/api/v1/. In your case, just take your Gissmo URL instance and add **/api/v1/** after that. You probably would have this one: https://gissmo.unistra.fr/api/v1/.\n",
    "\n",
    "Check this URL with a web browser. You will find a list of objects the API give. I find that **/sites/** gives a list of stations and sites."
   ]
  },
  {
   "cell_type": "code",
   "execution_count": 14,
   "metadata": {
    "collapsed": true
   },
   "outputs": [],
   "source": [
    "url = server + 'sites'\n",
    "req = requests.get(url)"
   ]
  },
  {
   "cell_type": "markdown",
   "metadata": {},
   "source": [
    "So I create the URL and make a request to it."
   ]
  },
  {
   "cell_type": "code",
   "execution_count": 15,
   "metadata": {
    "collapsed": true
   },
   "outputs": [],
   "source": [
    "if req.status_code != 200:\n",
    "    req.raise_for_status()\n",
    "data = req.json()"
   ]
  },
  {
   "cell_type": "markdown",
   "metadata": {},
   "source": [
    "After having check the request succeed (200 code), I fetch data in JSON.\n",
    "\n",
    "The API can return JSON format, you just have to add this after your URL: **/?format=json**. For an example: `https://gissmo-test.u-strasbg.fr/api/v1/?format=json`."
   ]
  },
  {
   "cell_type": "code",
   "execution_count": 16,
   "metadata": {
    "collapsed": false
   },
   "outputs": [
    {
     "name": "stdout",
     "output_type": "stream",
     "text": [
      "19T: 19 Tonnes - Musée de sismologie Strasbourg. (Station sismologique)\n",
      "AGO: Saint Agoulin. (Station sismologique)\n",
      "AIS: Nouvelle-Amsterdam. (Station sismologique)\n",
      "AJAC: base d'Aspretto, Ajaccio. (Station sismologique)\n",
      "ALLOS: Allos - Chapelle St Pierre. (Site de test)\n",
      "ANTF: Villa Thuret, Antibes. (Station sismologique)\n",
      "ANTH: Antheuil. (Site de test)\n",
      "ARBF: Cerege – Aix-en-Provence. (Station sismologique)\n",
      "ARTF: Artigues (83) – France. (Station sismologique)\n",
      "ATE: Arette. (Station sismologique)\n"
     ]
    }
   ],
   "source": [
    "for site in data[:10]:\n",
    "    name = site.get('name', '')\n",
    "    code = site.get('code', '')\n",
    "    _type = site.get('type', 'Unknown')\n",
    "    result = \"{code}: {name}. ({type})\".format(\n",
    "        code=code, name=name, type=_type)\n",
    "    print(result)"
   ]
  },
  {
   "cell_type": "markdown",
   "metadata": {},
   "source": [
    "*data* is a list of *site* objects. As response is in JSON, we get info as JSON properties. A simple **.get()** method is enough.\n",
    "\n",
    "That's why we get properties and then display them for each site.\n",
    "\n",
    "**Note**: We only display 10 first sites."
   ]
  }
 ],
 "metadata": {
  "kernelspec": {
   "display_name": "Python 3",
   "language": "python",
   "name": "python3"
  },
  "language_info": {
   "codemirror_mode": {
    "name": "ipython",
    "version": 3
   },
   "file_extension": ".py",
   "mimetype": "text/x-python",
   "name": "python",
   "nbconvert_exporter": "python",
   "pygments_lexer": "ipython3",
   "version": "3.4.3"
  }
 },
 "nbformat": 4,
 "nbformat_minor": 0
}
